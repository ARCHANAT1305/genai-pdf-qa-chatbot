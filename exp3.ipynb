{
 "cells": [
  {
   "cell_type": "code",
   "execution_count": 3,
   "id": "c0f44a47",
   "metadata": {
    "height": 625
   },
   "outputs": [
    {
     "name": "stdout",
     "output_type": "stream",
     "text": [
      "Q: What problem does the Transformer architecture aim to solve?\n",
      "A: The Transformer architecture aims to solve the fundamental constraint of sequential computation by relying entirely on an attention mechanism to draw global dependencies between input and output sequences. This allows for significantly more parallelization compared to traditional models based on recurrence or convolution, potentially reaching a new state of the art in sequence transduction tasks.\n",
      "Loaded 15 pages from the PDF.\n"
     ]
    }
   ],
   "source": [
    "import os\n",
    "import openai\n",
    "import sys\n",
    "sys.path.append('../..')\n",
    "\n",
    "from dotenv import load_dotenv, find_dotenv\n",
    "_ = load_dotenv(find_dotenv())\n",
    "openai.api_key = os.environ['OPENAI_API_KEY']\n",
    "\n",
    "from langchain.document_loaders import PyPDFLoader\n",
    "from langchain.text_splitter import RecursiveCharacterTextSplitter\n",
    "from langchain.vectorstores import DocArrayInMemorySearch\n",
    "from langchain.embeddings.openai import OpenAIEmbeddings\n",
    "from langchain.chains import RetrievalQA\n",
    "from langchain.chat_models import ChatOpenAI\n",
    "\n",
    "def build_pdf_qa(pdf_path: str):\n",
    "    loader = PyPDFLoader(pdf_path)\n",
    "    docs = loader.load()\n",
    "    splitter = RecursiveCharacterTextSplitter(chunk_size=1000, chunk_overlap=100)\n",
    "    chunks = splitter.split_documents(docs)\n",
    "    db = DocArrayInMemorySearch.from_documents(chunks, OpenAIEmbeddings())\n",
    "    return RetrievalQA.from_chain_type(\n",
    "        llm=ChatOpenAI(model_name=\"gpt-3.5-turbo\", temperature=0),\n",
    "        retriever=db.as_retriever()\n",
    "    )\n",
    "\n",
    "qa = build_pdf_qa(\"docs/cs229_lectures/attention.pdf\")\n",
    "query = \"What problem does the Transformer architecture aim to solve?\"\n",
    "answer = qa.run(query)\n",
    "print(\"Q:\", query)\n",
    "print(\"A:\", answer)\n",
    "\n",
    "loader = PyPDFLoader(\"docs/cs229_lectures/attention.pdf\")\n",
    "pages = loader.load()\n",
    "print(f\"Loaded {len(pages)} pages from the PDF.\")"
   ]
  },
  {
   "cell_type": "code",
   "execution_count": null,
   "id": "e892b5a6",
   "metadata": {
    "height": 30
   },
   "outputs": [],
   "source": []
  }
 ],
 "metadata": {
  "kernelspec": {
   "display_name": "Python 3 (ipykernel)",
   "language": "python",
   "name": "python3"
  },
  "language_info": {
   "codemirror_mode": {
    "name": "ipython",
    "version": 3
   },
   "file_extension": ".py",
   "mimetype": "text/x-python",
   "name": "python",
   "nbconvert_exporter": "python",
   "pygments_lexer": "ipython3",
   "version": "3.9.19"
  }
 },
 "nbformat": 4,
 "nbformat_minor": 5
}
